{
 "cells": [
  {
   "cell_type": "markdown",
   "id": "86c96c42-fb85-4fdc-a2cf-17fc888eabf6",
   "metadata": {},
   "source": [
    "base on the age and the salary we need to predict the salary"
   ]
  },
  {
   "cell_type": "markdown",
   "id": "8431e800-9f71-43fd-b6a2-cbd528f3bb93",
   "metadata": {},
   "source": [
    "# Examples Of Pyspark ML or machine learning"
   ]
  },
  {
   "cell_type": "code",
   "execution_count": 3,
   "id": "dcaae04e-b7e0-46ad-ae15-848c872f46b6",
   "metadata": {},
   "outputs": [],
   "source": [
    "#importing everything\n",
    "from pyspark.sql import SparkSession\n",
    "spark = SparkSession.builder.appName(\"missing\").getOrCreate()\n",
    "traningML = spark.read.csv('test1.csv', header=True, inferSchema=True)"
   ]
  },
  {
   "cell_type": "code",
   "execution_count": 4,
   "id": "e25fe231-edb0-4eed-abcb-10d94e6f3178",
   "metadata": {},
   "outputs": [
    {
     "name": "stdout",
     "output_type": "stream",
     "text": [
      "+---------+---+----------+------+\n",
      "|     Name|age|Experience|Salary|\n",
      "+---------+---+----------+------+\n",
      "|    Krish| 31|        10| 30000|\n",
      "|Sudhanshu| 30|         8| 25000|\n",
      "|    Sunny| 29|         4| 20000|\n",
      "|     Paul| 24|         3| 20000|\n",
      "|   Harsha| 21|         1| 15000|\n",
      "|  Shubham| 23|         2| 18000|\n",
      "+---------+---+----------+------+\n",
      "\n"
     ]
    }
   ],
   "source": [
    "traningML.show()"
   ]
  },
  {
   "cell_type": "code",
   "execution_count": 5,
   "id": "8dff782f-e673-49fb-a96c-fde962c003a1",
   "metadata": {},
   "outputs": [
    {
     "name": "stdout",
     "output_type": "stream",
     "text": [
      "root\n",
      " |-- Name: string (nullable = true)\n",
      " |-- age: integer (nullable = true)\n",
      " |-- Experience: integer (nullable = true)\n",
      " |-- Salary: integer (nullable = true)\n",
      "\n"
     ]
    }
   ],
   "source": [
    "traningML.printSchema()"
   ]
  },
  {
   "cell_type": "code",
   "execution_count": 6,
   "id": "836ce33a-d3a5-4631-856e-8b531f217714",
   "metadata": {},
   "outputs": [
    {
     "data": {
      "text/plain": [
       "['Name', 'age', 'Experience', 'Salary']"
      ]
     },
     "execution_count": 6,
     "metadata": {},
     "output_type": "execute_result"
    }
   ],
   "source": [
    "traningML.columns"
   ]
  },
  {
   "cell_type": "markdown",
   "id": "adc75ac3-5865-46b9-a4c1-589aca1226f2",
   "metadata": {},
   "source": [
    "# preparing the data "
   ]
  },
  {
   "cell_type": "markdown",
   "id": "65ae3f71-f9fe-4694-aa0b-45c16ab89e81",
   "metadata": {},
   "source": [
    "we need to convert the 2 rows in 1\n",
    "* [Age,Experience]----> new feature--->independent feature"
   ]
  },
  {
   "cell_type": "code",
   "execution_count": 12,
   "id": "e83815ea-29ac-40e5-8a49-546e98c4bd02",
   "metadata": {},
   "outputs": [],
   "source": [
    "#prepare for the linear regressiona\n",
    "from pyspark.ml.feature import VectorAssembler\n",
    "featureassembler=VectorAssembler(inputCols=[\"age\",\"Experience\"],outputCol=\"Independent Features\")"
   ]
  },
  {
   "cell_type": "code",
   "execution_count": 8,
   "id": "7df66a01-a47d-44f9-bfd3-fc6ed429a6ed",
   "metadata": {},
   "outputs": [],
   "source": [
    "output=featureassembler.transform(traningML)"
   ]
  },
  {
   "cell_type": "code",
   "execution_count": 9,
   "id": "e8523394-3b2f-4ece-9f0e-b014c0d3e7a5",
   "metadata": {},
   "outputs": [
    {
     "name": "stdout",
     "output_type": "stream",
     "text": [
      "+---------+---+----------+------+--------------------+\n",
      "|     Name|age|Experience|Salary|Independent Features|\n",
      "+---------+---+----------+------+--------------------+\n",
      "|    Krish| 31|        10| 30000|         [31.0,10.0]|\n",
      "|Sudhanshu| 30|         8| 25000|          [30.0,8.0]|\n",
      "|    Sunny| 29|         4| 20000|          [29.0,4.0]|\n",
      "|     Paul| 24|         3| 20000|          [24.0,3.0]|\n",
      "|   Harsha| 21|         1| 15000|          [21.0,1.0]|\n",
      "|  Shubham| 23|         2| 18000|          [23.0,2.0]|\n",
      "+---------+---+----------+------+--------------------+\n",
      "\n"
     ]
    }
   ],
   "source": [
    "output.show()"
   ]
  },
  {
   "cell_type": "code",
   "execution_count": 10,
   "id": "0b89a305-4757-4e79-9883-45255ee5a7ab",
   "metadata": {},
   "outputs": [],
   "source": [
    "#we filter the data to show only the 2 values that we need for the model or prediction\n",
    "finalized_data=output.select(\"Independent Features\",\"Salary\")"
   ]
  },
  {
   "cell_type": "code",
   "execution_count": 11,
   "id": "d311d9fc-8995-47ac-a64f-5fdd60eef080",
   "metadata": {},
   "outputs": [
    {
     "name": "stdout",
     "output_type": "stream",
     "text": [
      "+--------------------+------+\n",
      "|Independent Features|Salary|\n",
      "+--------------------+------+\n",
      "|         [31.0,10.0]| 30000|\n",
      "|          [30.0,8.0]| 25000|\n",
      "|          [29.0,4.0]| 20000|\n",
      "|          [24.0,3.0]| 20000|\n",
      "|          [21.0,1.0]| 15000|\n",
      "|          [23.0,2.0]| 18000|\n",
      "+--------------------+------+\n",
      "\n"
     ]
    }
   ],
   "source": [
    "finalized_data.show()\n"
   ]
  },
  {
   "cell_type": "markdown",
   "id": "3b1d924a-4705-48a8-a5ba-f2d46aaa6489",
   "metadata": {},
   "source": [
    "# train the model"
   ]
  },
  {
   "cell_type": "code",
   "execution_count": 17,
   "id": "68f7c704-2021-4fdd-ae52-29c50970c98a",
   "metadata": {},
   "outputs": [],
   "source": [
    "from pyspark.ml.regression import LinearRegression\n",
    "##split the data for getting trained\n",
    "train_data,test_data=finalized_data.randomSplit([0.75,0.25])\n",
    "#LinearRegression = import from pyspark  and add the variables\n",
    "#The learning objective is to minimize the specified loss function, with regularization. This supports two kinds of loss:\n",
    "regressor=LinearRegression(featuresCol='Independent Features', labelCol='Salary')"
   ]
  },
  {
   "cell_type": "code",
   "execution_count": 19,
   "id": "3a958ca3-fe3b-4da1-b223-e3d5a7b0af45",
   "metadata": {},
   "outputs": [
    {
     "ename": "AttributeError",
     "evalue": "'LinearRegressionModel' object has no attribute 'fit'",
     "output_type": "error",
     "traceback": [
      "\u001b[1;31m---------------------------------------------------------------------------\u001b[0m",
      "\u001b[1;31mAttributeError\u001b[0m                            Traceback (most recent call last)",
      "Input \u001b[1;32mIn [19]\u001b[0m, in \u001b[0;36m<cell line: 2>\u001b[1;34m()\u001b[0m\n\u001b[0;32m      1\u001b[0m \u001b[38;5;66;03m#Fit() a model to the input dataset with optional parameters.\u001b[39;00m\n\u001b[1;32m----> 2\u001b[0m regressor\u001b[38;5;241m=\u001b[39m\u001b[43mregressor\u001b[49m\u001b[38;5;241;43m.\u001b[39;49m\u001b[43mfit\u001b[49m(train_data)\n",
      "\u001b[1;31mAttributeError\u001b[0m: 'LinearRegressionModel' object has no attribute 'fit'"
     ]
    }
   ],
   "source": [
    "#Fit() a model to the input dataset with optional parameters.\n",
    "regressor=regressor.fit(train_data)"
   ]
  },
  {
   "cell_type": "markdown",
   "id": "c3c0a34f-fb9c-4b27-b4ff-2978ae4b89eb",
   "metadata": {},
   "source": [
    "# Once trained we got some data"
   ]
  },
  {
   "cell_type": "code",
   "execution_count": 20,
   "id": "189e943f-37b3-4652-88f2-3a31e24b8bc8",
   "metadata": {},
   "outputs": [
    {
     "data": {
      "text/plain": [
       "DenseVector([736.8421, 736.8421])"
      ]
     },
     "execution_count": 20,
     "metadata": {},
     "output_type": "execute_result"
    }
   ],
   "source": [
    "### Coefficients\n",
    "regressor.coefficients"
   ]
  },
  {
   "cell_type": "code",
   "execution_count": 21,
   "id": "082bcee5-7541-4ef2-83bd-7185feb3bf2c",
   "metadata": {},
   "outputs": [
    {
     "data": {
      "text/plain": [
       "-175.43859649151398"
      ]
     },
     "execution_count": 21,
     "metadata": {},
     "output_type": "execute_result"
    }
   ],
   "source": [
    "### Intercepts\n",
    "regressor.intercept"
   ]
  },
  {
   "cell_type": "code",
   "execution_count": 22,
   "id": "3df1ccab-2953-4324-a1a3-94993c7dc635",
   "metadata": {},
   "outputs": [],
   "source": [
    "### Prediction or evaluate the model and their efficacy\n",
    "pred_results=regressor.evaluate(test_data)"
   ]
  },
  {
   "cell_type": "code",
   "execution_count": 26,
   "id": "2fadf931-2c66-43b0-9044-e5ea85d482b7",
   "metadata": {},
   "outputs": [
    {
     "name": "stdout",
     "output_type": "stream",
     "text": [
      "+--------------------+------+------------------+\n",
      "|Independent Features|Salary|        prediction|\n",
      "+--------------------+------+------------------+\n",
      "|          [21.0,1.0]| 15000|16035.087719298195|\n",
      "|          [29.0,4.0]| 20000| 24140.35087719302|\n",
      "|          [30.0,8.0]| 25000| 27824.56140350881|\n",
      "+--------------------+------+------------------+\n",
      "\n"
     ]
    }
   ],
   "source": [
    "#Dataframe outputted by the model's `transform` method.\n",
    "pred_results.predictions.show()"
   ]
  },
  {
   "cell_type": "code",
   "execution_count": 27,
   "id": "0d808562-b569-47dc-aa00-ac08eb27d260",
   "metadata": {},
   "outputs": [
    {
     "data": {
      "text/plain": [
       "(2666.6666666666756, 8730686.365035541)"
      ]
     },
     "execution_count": 27,
     "metadata": {},
     "output_type": "execute_result"
    }
   ],
   "source": [
    "#meanAbsoluteError == Returns the mean absolute error, which is a risk function corresponding to the expected value of the absolute error loss or l1-norm loss\n",
    "# meanSquaredError == Returns the mean squared error, which is a risk function  corresponding to the expected value of the squared error loss or quadratic loss.\n",
    "pred_results.meanAbsoluteError,pred_results.meanSquaredError"
   ]
  }
 ],
 "metadata": {
  "kernelspec": {
   "display_name": "Python 3 (ipykernel)",
   "language": "python",
   "name": "python3"
  },
  "language_info": {
   "codemirror_mode": {
    "name": "ipython",
    "version": 3
   },
   "file_extension": ".py",
   "mimetype": "text/x-python",
   "name": "python",
   "nbconvert_exporter": "python",
   "pygments_lexer": "ipython3",
   "version": "3.9.7"
  }
 },
 "nbformat": 4,
 "nbformat_minor": 5
}
