{
 "cells": [
  {
   "cell_type": "markdown",
   "id": "0dc6163f-46f3-41b5-8f0b-d4aaa39b08d5",
   "metadata": {
    "tags": []
   },
   "source": [
    "# Pyspark Dataframes"
   ]
  },
  {
   "cell_type": "markdown",
   "id": "06dea4af-eb6f-4699-a1f5-3ee317d8cec3",
   "metadata": {},
   "source": [
    "* Filter Operation\n",
    "* &,|,==\n",
    "* ~"
   ]
  },
  {
   "cell_type": "markdown",
   "id": "4473248b-50c2-4a4d-b275-31d0294b41dd",
   "metadata": {},
   "source": [
    "importing all the data"
   ]
  },
  {
   "cell_type": "code",
   "execution_count": 3,
   "id": "390628be-4a9c-41ce-8402-5024ee758490",
   "metadata": {},
   "outputs": [],
   "source": [
    "from pyspark.sql import SparkSession"
   ]
  },
  {
   "cell_type": "code",
   "execution_count": 4,
   "id": "8af4717d-cdb1-4a7d-9511-a51602ad1ceb",
   "metadata": {},
   "outputs": [],
   "source": [
    "spark = SparkSession.builder.appName(\"dataframe\").getOrCreate()"
   ]
  },
  {
   "cell_type": "code",
   "execution_count": 6,
   "id": "3e30121b-98f8-4c21-816c-53fc0d5e971c",
   "metadata": {},
   "outputs": [],
   "source": [
    "df_pyspark = spark.read.csv('test1.csv', header=True, inferSchema=True)"
   ]
  },
  {
   "cell_type": "code",
   "execution_count": 7,
   "id": "00ce98ae-e9ff-46d3-acda-2918a80f8744",
   "metadata": {},
   "outputs": [
    {
     "name": "stdout",
     "output_type": "stream",
     "text": [
      "+---------+---+----------+------+\n",
      "|     Name|age|Experience|Salary|\n",
      "+---------+---+----------+------+\n",
      "|    Krish| 31|        10| 30000|\n",
      "|Sudhanshu| 30|         8| 25000|\n",
      "|    Sunny| 29|         4| 20000|\n",
      "|     Paul| 24|         3| 20000|\n",
      "|   Harsha| 21|         1| 15000|\n",
      "|  Shubham| 23|         2| 18000|\n",
      "+---------+---+----------+------+\n",
      "\n"
     ]
    }
   ],
   "source": [
    "df_pyspark.show()"
   ]
  },
  {
   "cell_type": "markdown",
   "id": "b7aad100-d5a4-4a11-811b-4a5c11dd2948",
   "metadata": {},
   "source": [
    "# Filter operations"
   ]
  },
  {
   "cell_type": "markdown",
   "id": "1abf5ad5-cfd4-4c8d-8ae2-998e82bfb5d4",
   "metadata": {},
   "source": [
    "find out the salaty of the people that less than or queal to 20k"
   ]
  },
  {
   "cell_type": "code",
   "execution_count": 9,
   "id": "dc901d46-727c-4d98-b326-b097b1150c6a",
   "metadata": {},
   "outputs": [
    {
     "name": "stdout",
     "output_type": "stream",
     "text": [
      "+-------+---+----------+------+\n",
      "|   Name|age|Experience|Salary|\n",
      "+-------+---+----------+------+\n",
      "|  Sunny| 29|         4| 20000|\n",
      "|   Paul| 24|         3| 20000|\n",
      "| Harsha| 21|         1| 15000|\n",
      "|Shubham| 23|         2| 18000|\n",
      "+-------+---+----------+------+\n",
      "\n"
     ]
    }
   ],
   "source": [
    "df_pyspark.filter(\"salary<=20000\").show()"
   ]
  },
  {
   "cell_type": "markdown",
   "id": "82745204-60ab-4817-8e2d-b569d340bbb2",
   "metadata": {},
   "source": [
    "only showing some particular column"
   ]
  },
  {
   "cell_type": "code",
   "execution_count": 11,
   "id": "59bc327c-a064-4f14-851a-d491ae2c68a7",
   "metadata": {},
   "outputs": [
    {
     "name": "stdout",
     "output_type": "stream",
     "text": [
      "+---+-------+\n",
      "|age|   Name|\n",
      "+---+-------+\n",
      "| 29|  Sunny|\n",
      "| 24|   Paul|\n",
      "| 21| Harsha|\n",
      "| 23|Shubham|\n",
      "+---+-------+\n",
      "\n"
     ]
    }
   ],
   "source": [
    "#I can prganaize the cells as i wanted\n",
    "df_pyspark.filter(\"salary<=20000\").select(['age','Name']).show()"
   ]
  },
  {
   "cell_type": "markdown",
   "id": "218dfaf3-4438-4d43-949e-7b32564eccdb",
   "metadata": {},
   "source": [
    "using 2 conditions to filter a tab"
   ]
  },
  {
   "cell_type": "code",
   "execution_count": 14,
   "id": "fcbe8d66-c8df-467a-801d-af86e882315d",
   "metadata": {},
   "outputs": [
    {
     "name": "stdout",
     "output_type": "stream",
     "text": [
      "+---+-------+----------+\n",
      "|age|   Name|Experience|\n",
      "+---+-------+----------+\n",
      "| 29|  Sunny|         4|\n",
      "| 24|   Paul|         3|\n",
      "| 23|Shubham|         2|\n",
      "+---+-------+----------+\n",
      "\n"
     ]
    }
   ],
   "source": [
    "df_pyspark.filter((df_pyspark['Experience']<= 4) & (df_pyspark['Experience']>= 2)).select(['age','Name', 'Experience']).show()"
   ]
  },
  {
   "cell_type": "markdown",
   "id": "fb965cfa-9171-44f2-9bd4-260e489f74ee",
   "metadata": {},
   "source": [
    "using or to filter"
   ]
  },
  {
   "cell_type": "code",
   "execution_count": 17,
   "id": "b0e5e4ca-2bf2-4cf7-a03e-558a08dd49c1",
   "metadata": {},
   "outputs": [
    {
     "name": "stdout",
     "output_type": "stream",
     "text": [
      "+---+-------+----------+\n",
      "|age|   Name|Experience|\n",
      "+---+-------+----------+\n",
      "| 31|  Krish|        10|\n",
      "| 21| Harsha|         1|\n",
      "| 23|Shubham|         2|\n",
      "+---+-------+----------+\n",
      "\n"
     ]
    }
   ],
   "source": [
    "# | = means or in code\n",
    "df_pyspark.filter((df_pyspark['Experience'] == 10) | (df_pyspark['Experience']<= 2)).select(['age','Name', 'Experience']).show()"
   ]
  },
  {
   "cell_type": "markdown",
   "id": "4da13b49-7a95-42f9-84b5-93f35dcd714e",
   "metadata": {},
   "source": [
    "~ not operation"
   ]
  },
  {
   "cell_type": "code",
   "execution_count": 18,
   "id": "fc14d6f8-0e7c-47ad-8544-93a2f131f937",
   "metadata": {},
   "outputs": [
    {
     "name": "stdout",
     "output_type": "stream",
     "text": [
      "+---+---------+----------+\n",
      "|age|     Name|Experience|\n",
      "+---+---------+----------+\n",
      "| 30|Sudhanshu|         8|\n",
      "| 29|    Sunny|         4|\n",
      "| 24|     Paul|         3|\n",
      "+---+---------+----------+\n",
      "\n"
     ]
    }
   ],
   "source": [
    "#~ = allows to filter all the values that dont match athe conditions\n",
    "df_pyspark.filter(\n",
    "    ~((df_pyspark['Experience'] == 10) | (df_pyspark['Experience']<= 2))).select(['age','Name', 'Experience']).show()"
   ]
  },
  {
   "cell_type": "markdown",
   "id": "17baf33e-7bbd-4d84-8bf8-3341bb60f8cc",
   "metadata": {},
   "source": [
    "# Pyspark GroupBy And Aggregate Functions"
   ]
  },
  {
   "cell_type": "code",
   "execution_count": 21,
   "id": "8a431d23-27b1-40b6-8c90-64ecb9d1ac75",
   "metadata": {},
   "outputs": [
    {
     "data": {
      "text/html": [
       "\n",
       "            <div>\n",
       "                <p><b>SparkSession - in-memory</b></p>\n",
       "                \n",
       "        <div>\n",
       "            <p><b>SparkContext</b></p>\n",
       "\n",
       "            <p><a href=\"http://host.docker.internal:4041\">Spark UI</a></p>\n",
       "\n",
       "            <dl>\n",
       "              <dt>Version</dt>\n",
       "                <dd><code>v3.2.1</code></dd>\n",
       "              <dt>Master</dt>\n",
       "                <dd><code>local[*]</code></dd>\n",
       "              <dt>AppName</dt>\n",
       "                <dd><code>dataframe</code></dd>\n",
       "            </dl>\n",
       "        </div>\n",
       "        \n",
       "            </div>\n",
       "        "
      ],
      "text/plain": [
       "<pyspark.sql.session.SparkSession at 0x1e5a3a2b5b0>"
      ]
     },
     "execution_count": 21,
     "metadata": {},
     "output_type": "execute_result"
    }
   ],
   "source": [
    "spark"
   ]
  },
  {
   "cell_type": "code",
   "execution_count": 20,
   "id": "56dbf60b-e505-4525-9839-2c7e2f33f111",
   "metadata": {},
   "outputs": [],
   "source": [
    "df_pyspark2 = spark.read.csv('test3.csv', header=True, inferSchema=True)"
   ]
  },
  {
   "cell_type": "code",
   "execution_count": 22,
   "id": "08d9b917-2918-4915-b966-d760bc55f583",
   "metadata": {},
   "outputs": [
    {
     "name": "stdout",
     "output_type": "stream",
     "text": [
      "+---------+------------+------+\n",
      "|     Name| Departments|salary|\n",
      "+---------+------------+------+\n",
      "|    Krish|Data Science| 10000|\n",
      "|    Krish|         IOT|  5000|\n",
      "|   Mahesh|    Big Data|  4000|\n",
      "|    Krish|    Big Data|  4000|\n",
      "|   Mahesh|Data Science|  3000|\n",
      "|Sudhanshu|Data Science| 20000|\n",
      "|Sudhanshu|         IOT| 10000|\n",
      "|Sudhanshu|    Big Data|  5000|\n",
      "|    Sunny|Data Science| 10000|\n",
      "|    Sunny|    Big Data|  2000|\n",
      "+---------+------------+------+\n",
      "\n"
     ]
    }
   ],
   "source": [
    "df_pyspark2.show()"
   ]
  },
  {
   "cell_type": "code",
   "execution_count": 23,
   "id": "9f61c084-123b-46bc-a5b3-ac799b104286",
   "metadata": {},
   "outputs": [
    {
     "name": "stdout",
     "output_type": "stream",
     "text": [
      "root\n",
      " |-- Name: string (nullable = true)\n",
      " |-- Departments: string (nullable = true)\n",
      " |-- salary: integer (nullable = true)\n",
      "\n"
     ]
    }
   ],
   "source": [
    "df_pyspark2.printSchema()"
   ]
  },
  {
   "cell_type": "markdown",
   "id": "96b73500-7d0c-444b-9543-2925a9c3d140",
   "metadata": {},
   "source": [
    "# group by"
   ]
  },
  {
   "cell_type": "markdown",
   "id": "164a4123-d61c-4a4e-bd7a-f84bdd87daa2",
   "metadata": {},
   "source": [
    "groupBy() = 1st we group by a column  and then we make the performance, like sum, average etc.\n"
   ]
  },
  {
   "cell_type": "code",
   "execution_count": 25,
   "id": "ac7a2e49-3dc9-49a0-8c2e-167938946584",
   "metadata": {},
   "outputs": [
    {
     "name": "stdout",
     "output_type": "stream",
     "text": [
      "+---------+-----------+\n",
      "|     Name|sum(salary)|\n",
      "+---------+-----------+\n",
      "|Sudhanshu|      35000|\n",
      "|    Sunny|      12000|\n",
      "|    Krish|      19000|\n",
      "|   Mahesh|       7000|\n",
      "+---------+-----------+\n",
      "\n"
     ]
    }
   ],
   "source": [
    "df_pyspark2.groupBy('Name').sum().show()"
   ]
  },
  {
   "cell_type": "markdown",
   "id": "da343514-9881-4e29-a9a7-e79de72adb19",
   "metadata": {},
   "source": [
    "### group by deparment which have a mean salary"
   ]
  },
  {
   "cell_type": "code",
   "execution_count": 29,
   "id": "98e3d6ff-0ddf-4e07-aa93-1d41e5eaa4c3",
   "metadata": {},
   "outputs": [
    {
     "name": "stdout",
     "output_type": "stream",
     "text": [
      "+------------+-----------+\n",
      "| Departments|avg(salary)|\n",
      "+------------+-----------+\n",
      "|         IOT|     7500.0|\n",
      "|    Big Data|     3750.0|\n",
      "|Data Science|    10750.0|\n",
      "+------------+-----------+\n",
      "\n"
     ]
    }
   ],
   "source": [
    "df_pyspark2.groupBy('Departments').mean().show()"
   ]
  },
  {
   "cell_type": "code",
   "execution_count": 30,
   "id": "ae914b05-5272-4774-bf2a-d863279ee924",
   "metadata": {},
   "outputs": [
    {
     "name": "stdout",
     "output_type": "stream",
     "text": [
      "+------------+-----------+\n",
      "| Departments|sum(salary)|\n",
      "+------------+-----------+\n",
      "|         IOT|      15000|\n",
      "|    Big Data|      15000|\n",
      "|Data Science|      43000|\n",
      "+------------+-----------+\n",
      "\n"
     ]
    }
   ],
   "source": [
    "df_pyspark2.groupBy('Departments').sum().show()"
   ]
  },
  {
   "cell_type": "code",
   "execution_count": 31,
   "id": "2afb54b5-87e5-45e5-a7f3-46ed35351881",
   "metadata": {},
   "outputs": [
    {
     "name": "stdout",
     "output_type": "stream",
     "text": [
      "+------------+-----+\n",
      "| Departments|count|\n",
      "+------------+-----+\n",
      "|         IOT|    2|\n",
      "|    Big Data|    4|\n",
      "|Data Science|    4|\n",
      "+------------+-----+\n",
      "\n"
     ]
    }
   ],
   "source": [
    "df_pyspark2.groupBy('Departments').count().show()"
   ]
  },
  {
   "cell_type": "markdown",
   "id": "0cceb8fd-5981-4b21-aa0d-df2c6c979598",
   "metadata": {},
   "source": [
    "### sum all the values in salary or aggregate"
   ]
  },
  {
   "cell_type": "code",
   "execution_count": 36,
   "id": "6fc8b5c1-855f-4460-aff5-16d6a643e6df",
   "metadata": {},
   "outputs": [
    {
     "name": "stdout",
     "output_type": "stream",
     "text": [
      "+-----------+\n",
      "|sum(salary)|\n",
      "+-----------+\n",
      "|      73000|\n",
      "+-----------+\n",
      "\n"
     ]
    }
   ],
   "source": [
    "#Aggregate on the entire :class:`DataFrame` without groups\n",
    "df_pyspark2.agg({'salary':'sum'}).show()"
   ]
  },
  {
   "cell_type": "code",
   "execution_count": null,
   "id": "76ec35b2-c49e-4ec1-aa5c-dc53ee8fa1e9",
   "metadata": {},
   "outputs": [],
   "source": []
  },
  {
   "cell_type": "code",
   "execution_count": null,
   "id": "eb423f3c-d553-4cb0-bd8d-de08d008842e",
   "metadata": {},
   "outputs": [],
   "source": []
  }
 ],
 "metadata": {
  "kernelspec": {
   "display_name": "Python 3 (ipykernel)",
   "language": "python",
   "name": "python3"
  },
  "language_info": {
   "codemirror_mode": {
    "name": "ipython",
    "version": 3
   },
   "file_extension": ".py",
   "mimetype": "text/x-python",
   "name": "python",
   "nbconvert_exporter": "python",
   "pygments_lexer": "ipython3",
   "version": "3.9.7"
  }
 },
 "nbformat": 4,
 "nbformat_minor": 5
}
